{
 "cells": [
  {
   "cell_type": "code",
   "execution_count": 114,
   "metadata": {},
   "outputs": [],
   "source": [
    "import pandas as pd\n",
    "import numpy as np\n",
    "import os, sys"
   ]
  },
  {
   "cell_type": "markdown",
   "metadata": {},
   "source": [
    "# Data upload"
   ]
  },
  {
   "cell_type": "code",
   "execution_count": 228,
   "metadata": {},
   "outputs": [],
   "source": [
    "# upload a dataset \n",
    "\n",
    "file_path_Evgeny = os.path.join(sys.path[0], \"dialogues_v3_Evgeny.xlsx\")\n",
    "file_path_Tijs = os.path.join(sys.path[0], \"dialogues_v3_Tijs.xlsx\")\n",
    "\n",
    "col_names = ['id', 'conv_id' 'pagetitle', 'orig_user', 'reply_user', 'orig', 'reply',\n",
    "       'disagreement', 'orig_id', 'reply_id', 'orig_toxicity',\n",
    "       'orig_severe_toxicity', 'reply_toxicity', 'reply_severe_toxicity',\n",
    "       'conv_id', 'COP', 'COP_flag', 'COP_why', 'FCG', 'FCG_flag',\n",
    "       'FCG_why', 'RT', 'RT_flag', 'RT_why', 'PS',\n",
    "       'PS_flag', 'PS_why', 'Overall comment', 'escalated']\n",
    "\n",
    "csv_parameters = {\n",
    "        'header' : 1, \n",
    "        'names' : col_names, \n",
    "        'index_col' :'id', \n",
    "        'convert_float' : True}\n",
    "\n",
    "df_Evgeny = pd.read_excel(file_path_Evgeny, **csv_parameters)\n",
    "df_Tijs = pd.read_excel(file_path_Tijs, **csv_parameters)\n",
    "\n",
    "# substitute in Tijs's file, column 'diisagreement': 0,1 = 1,0\n",
    "df_Tijs.disagreement.replace({\n",
    "    0:1,\n",
    "    1:0\n",
    "}, inplace = True)\n",
    "\n",
    "# in df_Evgeny, put disagreement == 0 if COP is not NA\n",
    "def add_disagreement_rate(row):\n",
    "    if row['COP'] in [0,1]:\n",
    "        return 0\n",
    "    elif row['disagreement'] == 1:\n",
    "        return 1\n",
    "df_Evgeny['disagreement'] = df_Evgeny.apply(lambda rows: add_disagreement_rate(rows), axis = 1)\n",
    "\n",
    "df = pd.concat([df_Evgeny, df_Tijs])\n",
    "\n",
    "df = df.convert_dtypes()\n",
    "\n",
    "# Fistly, calculate a summ_PT parameter\n",
    "df['summ_PT'] = df.COP + df.FCG + df.RT + df.PS"
   ]
  },
  {
   "cell_type": "code",
   "execution_count": 229,
   "metadata": {},
   "outputs": [],
   "source": [
    "# choose appropriate columns. drop lines without disagreement.\n",
    "df_ess = df[['orig', 'reply', 'COP', 'FCG', 'RT', 'PS', 'escalated', 'conv_id', 'disagreement', 'summ_PT']].dropna()\n",
    "labels = ['COP', 'FCG', 'RT', 'PS']"
   ]
  },
  {
   "cell_type": "code",
   "execution_count": 230,
   "metadata": {},
   "outputs": [
    {
     "data": {
      "text/html": [
       "<div>\n",
       "<style scoped>\n",
       "    .dataframe tbody tr th:only-of-type {\n",
       "        vertical-align: middle;\n",
       "    }\n",
       "\n",
       "    .dataframe tbody tr th {\n",
       "        vertical-align: top;\n",
       "    }\n",
       "\n",
       "    .dataframe thead th {\n",
       "        text-align: right;\n",
       "    }\n",
       "</style>\n",
       "<table border=\"1\" class=\"dataframe\">\n",
       "  <thead>\n",
       "    <tr style=\"text-align: right;\">\n",
       "      <th></th>\n",
       "      <th>orig</th>\n",
       "      <th>reply</th>\n",
       "      <th>COP</th>\n",
       "      <th>FCG</th>\n",
       "      <th>RT</th>\n",
       "      <th>PS</th>\n",
       "      <th>escalated</th>\n",
       "      <th>conv_id</th>\n",
       "      <th>disagreement</th>\n",
       "      <th>summ_PT</th>\n",
       "    </tr>\n",
       "    <tr>\n",
       "      <th>id</th>\n",
       "      <th></th>\n",
       "      <th></th>\n",
       "      <th></th>\n",
       "      <th></th>\n",
       "      <th></th>\n",
       "      <th></th>\n",
       "      <th></th>\n",
       "      <th></th>\n",
       "      <th></th>\n",
       "      <th></th>\n",
       "    </tr>\n",
       "  </thead>\n",
       "  <tbody>\n",
       "    <tr>\n",
       "      <th>1548</th>\n",
       "      <td>Neutrality\\nIf the neutrality of this article...</td>\n",
       "      <td>That's true. The problem with the article is t...</td>\n",
       "      <td>1</td>\n",
       "      <td>0</td>\n",
       "      <td>1</td>\n",
       "      <td>0</td>\n",
       "      <td>0</td>\n",
       "      <td>126310761.67.67</td>\n",
       "      <td>0</td>\n",
       "      <td>2</td>\n",
       "    </tr>\n",
       "    <tr>\n",
       "      <th>1549</th>\n",
       "      <td>That's true. The problem with the article is t...</td>\n",
       "      <td>As this is an emotionally laden subject, I don...</td>\n",
       "      <td>1</td>\n",
       "      <td>0</td>\n",
       "      <td>0</td>\n",
       "      <td>0</td>\n",
       "      <td>0</td>\n",
       "      <td>126310761.67.67</td>\n",
       "      <td>0</td>\n",
       "      <td>1</td>\n",
       "    </tr>\n",
       "    <tr>\n",
       "      <th>1550</th>\n",
       "      <td>As this is an emotionally laden subject, I don...</td>\n",
       "      <td>For the official language thing check, Talk:Ic...</td>\n",
       "      <td>0</td>\n",
       "      <td>1</td>\n",
       "      <td>1</td>\n",
       "      <td>1</td>\n",
       "      <td>0</td>\n",
       "      <td>126310761.67.67</td>\n",
       "      <td>0</td>\n",
       "      <td>3</td>\n",
       "    </tr>\n",
       "    <tr>\n",
       "      <th>1551</th>\n",
       "      <td>For the official language thing check, Talk:Ic...</td>\n",
       "      <td>I did not have the USA in mind, when I wrote t...</td>\n",
       "      <td>1</td>\n",
       "      <td>0</td>\n",
       "      <td>1</td>\n",
       "      <td>1</td>\n",
       "      <td>0</td>\n",
       "      <td>126310761.67.67</td>\n",
       "      <td>0</td>\n",
       "      <td>3</td>\n",
       "    </tr>\n",
       "    <tr>\n",
       "      <th>1552</th>\n",
       "      <td>For the official language thing check, Talk:Ic...</td>\n",
       "      <td>PS: I had already read the discussion you refe...</td>\n",
       "      <td>1</td>\n",
       "      <td>0</td>\n",
       "      <td>1</td>\n",
       "      <td>0</td>\n",
       "      <td>0</td>\n",
       "      <td>126310761.67.67</td>\n",
       "      <td>0</td>\n",
       "      <td>2</td>\n",
       "    </tr>\n",
       "  </tbody>\n",
       "</table>\n",
       "</div>"
      ],
      "text/plain": [
       "                                                   orig  \\\n",
       "id                                                        \n",
       "1548   Neutrality\\nIf the neutrality of this article...   \n",
       "1549  That's true. The problem with the article is t...   \n",
       "1550  As this is an emotionally laden subject, I don...   \n",
       "1551  For the official language thing check, Talk:Ic...   \n",
       "1552  For the official language thing check, Talk:Ic...   \n",
       "\n",
       "                                                  reply  COP  FCG  RT  PS  \\\n",
       "id                                                                          \n",
       "1548  That's true. The problem with the article is t...    1    0   1   0   \n",
       "1549  As this is an emotionally laden subject, I don...    1    0   0   0   \n",
       "1550  For the official language thing check, Talk:Ic...    0    1   1   1   \n",
       "1551  I did not have the USA in mind, when I wrote t...    1    0   1   1   \n",
       "1552  PS: I had already read the discussion you refe...    1    0   1   0   \n",
       "\n",
       "      escalated          conv_id  disagreement  summ_PT  \n",
       "id                                                       \n",
       "1548          0  126310761.67.67             0        2  \n",
       "1549          0  126310761.67.67             0        1  \n",
       "1550          0  126310761.67.67             0        3  \n",
       "1551          0  126310761.67.67             0        3  \n",
       "1552          0  126310761.67.67             0        2  "
      ]
     },
     "execution_count": 230,
     "metadata": {},
     "output_type": "execute_result"
    }
   ],
   "source": [
    "df_ess.head()"
   ]
  },
  {
   "cell_type": "markdown",
   "metadata": {},
   "source": [
    "# Data Analysis"
   ]
  },
  {
   "cell_type": "markdown",
   "metadata": {},
   "source": [
    "The first hypothesis claims that the developed NLP model will predict the level of Perspective-Taking in utterances significantly better than the baseline bag-of-words approach. \n",
    "\n",
    "Secondly, we hypothesize that higher Perspective-Taking scores in the discussion will lead to the lower rate of the moderator summons. \n",
    "\n",
    "In third, the length of the discussion will be negatively correlated with the Perspective-Taking scores, as higher Perspective-Taking should lead to higher constructiveness of a discussion and, as a result, to a faster agreement.\n",
    "\n",
    "The fourth hypothesis states that the level of Perspective-Taking in a discussion will be dependent on the Perspective-Taking level in the first reply. This hypothesis is based on the idea that there are communication patterns that promote empathy in response (Pfeil & Zaphiris, 2007). We suggest that exercising Perspective-Taking at the beginning of the discussion will promote a similar pattern in subsequent answers.   \n"
   ]
  },
  {
   "cell_type": "code",
   "execution_count": 231,
   "metadata": {},
   "outputs": [],
   "source": [
    "import seaborn as sns\n",
    "import matplotlib.pyplot as plt\n",
    "from scipy import stats "
   ]
  },
  {
   "cell_type": "markdown",
   "metadata": {},
   "source": [
    "### Second hypothesis"
   ]
  },
  {
   "cell_type": "code",
   "execution_count": 216,
   "metadata": {},
   "outputs": [
    {
     "data": {
      "text/plain": [
       "(array([ 95., 229., 585., 647., 118.]),\n",
       " array([0.0, 0.8, 1.6, 2.4000000000000004, 3.2, 4.0], dtype=object),\n",
       " <a list of 5 Patch objects>)"
      ]
     },
     "execution_count": 216,
     "metadata": {},
     "output_type": "execute_result"
    },
    {
     "data": {
      "image/png": "[encoded data removed]",
      "text/plain": [
       "<Figure size 432x288 with 1 Axes>"
      ]
     },
     "metadata": {
      "needs_background": "light"
     },
     "output_type": "display_data"
    }
   ],
   "source": [
    "plt.hist(df_ess['summ_PT'], bins = 5)"
   ]
  },
  {
   "cell_type": "code",
   "execution_count": 217,
   "metadata": {},
   "outputs": [],
   "source": [
    "escalated_PT = df_ess[df_ess.escalated == 1]['summ_PT']\n",
    "non_escalated_PT = df_ess[df_ess.escalated == 0]['summ_PT']"
   ]
  },
  {
   "cell_type": "code",
   "execution_count": 218,
   "metadata": {},
   "outputs": [
    {
     "data": {
      "text/plain": [
       "(array([ 79., 182., 488., 559., 103.]),\n",
       " array([0.0, 0.8, 1.6, 2.4000000000000004, 3.2, 4.0], dtype=object),\n",
       " <a list of 5 Patch objects>)"
      ]
     },
     "execution_count": 218,
     "metadata": {},
     "output_type": "execute_result"
    },
    {
     "data": {
      "image/png": "[encoded data removed]",
      "text/plain": [
       "<Figure size 432x288 with 1 Axes>"
      ]
     },
     "metadata": {
      "needs_background": "light"
     },
     "output_type": "display_data"
    }
   ],
   "source": [
    "plt.hist(non_escalated_PT, bins = 5)"
   ]
  },
  {
   "cell_type": "code",
   "execution_count": 219,
   "metadata": {},
   "outputs": [
    {
     "data": {
      "text/plain": [
       "(array([16., 47., 97., 88., 15.]),\n",
       " array([0.0, 0.8, 1.6, 2.4000000000000004, 3.2, 4.0], dtype=object),\n",
       " <a list of 5 Patch objects>)"
      ]
     },
     "execution_count": 219,
     "metadata": {},
     "output_type": "execute_result"
    },
    {
     "data": {
      "image/png": "[encoded data removed]",
      "text/plain": [
       "<Figure size 432x288 with 1 Axes>"
      ]
     },
     "metadata": {
      "needs_background": "light"
     },
     "output_type": "display_data"
    }
   ],
   "source": [
    "plt.hist(escalated_PT, bins = 5)"
   ]
  },
  {
   "cell_type": "code",
   "execution_count": 220,
   "metadata": {},
   "outputs": [],
   "source": [
    "e_m = np.mean(escalated_PT)"
   ]
  },
  {
   "cell_type": "code",
   "execution_count": 221,
   "metadata": {},
   "outputs": [],
   "source": [
    "e_sd = np.std(escalated_PT)"
   ]
  },
  {
   "cell_type": "code",
   "execution_count": 222,
   "metadata": {},
   "outputs": [
    {
     "data": {
      "text/plain": [
       "LeveneResult(statistic=0.6021291884777888, pvalue=0.43787653979149366)"
      ]
     },
     "execution_count": 222,
     "metadata": {},
     "output_type": "execute_result"
    }
   ],
   "source": [
    "stats_lev = stats.levene(escalated_PT, non_escalated_PT, center = 'median') # ‘median’ : Recommended for skewed (non-normal) distributions>\n",
    "# equal variance is supported\n",
    "stats_lev"
   ]
  },
  {
   "cell_type": "code",
   "execution_count": 223,
   "metadata": {},
   "outputs": [],
   "source": [
    "ne_m = np.mean(non_escalated_PT)"
   ]
  },
  {
   "cell_type": "code",
   "execution_count": 224,
   "metadata": {},
   "outputs": [],
   "source": [
    "ne_sd = np.std(non_escalated_PT)"
   ]
  },
  {
   "cell_type": "code",
   "execution_count": 225,
   "metadata": {},
   "outputs": [
    {
     "data": {
      "text/plain": [
       "Ttest_indResult(statistic=-2.331643999984482, pvalue=0.019837686676896973)"
      ]
     },
     "execution_count": 225,
     "metadata": {},
     "output_type": "execute_result"
    }
   ],
   "source": [
    "h2_ttest = stats.ttest_ind(escalated_PT, non_escalated_PT, equal_var = True)\n",
    "h2_ttest"
   ]
  },
  {
   "cell_type": "code",
   "execution_count": 226,
   "metadata": {},
   "outputs": [
    {
     "name": "stdout",
     "output_type": "stream",
     "text": [
      "Levene's test was conducted to test the equality of variance hypothesis for the utterances in escalated and non-escalated conversations. The test indicated equal variance (F = 0.6, p = 0.44). Thus, t-test was applied to test the second hypothesis. The null hypothesis states that there is no difference between perspective-taking scores for the utterances in escalated and non-escalated conversations. The t-test results rejected the null-hypothesis: there is a significant difference between escalated (M = 2.1, sd = 0.98) and non-escalated (M = 2.3, sd = 0.97) conversations: t = -2.3, p = 0.02, df = 1673.\n"
     ]
    }
   ],
   "source": [
    "# print results\n",
    "print(\n",
    "f\"Levene's test was conducted to test the equality of variance hypothesis \\\n",
    "for the utterances in escalated and non-escalated conversations. The test \\\n",
    "indicated equal variance (F = {stats_lev[0]:.2}, p = {stats_lev[1]:.2}). \\\n",
    "Thus, t-test was applied to test the second hypothesis. The null hypothesis \\\n",
    "states that there is no difference between perspective-taking scores for the \\\n",
    "utterances in escalated and non-escalated conversations. The t-test results rejected \\\n",
    "the null-hypothesis: there is a significant difference between escalated (M = {e_m:.2}, sd = {e_sd:.2}) \\\n",
    "and non-escalated (M = {ne_m:.2}, sd = {ne_sd:.2}) conversations: t = {h2_ttest[0]:.2}, p = {h2_ttest[1]:.2}, \\\n",
    "df = {len(non_escalated_PT) + len(escalated_PT) - 1}.\"\n",
    ")"
   ]
  },
  {
   "cell_type": "markdown",
   "metadata": {},
   "source": [
    "### Third hypothesis"
   ]
  },
  {
   "cell_type": "markdown",
   "metadata": {},
   "source": [
    "In third, the length of the discussion will be negatively correlated with the Perspective-Taking scores, as higher Perspective-Taking should lead to higher constructiveness of a discussion and, as a result, to a faster agreement."
   ]
  },
  {
   "cell_type": "code",
   "execution_count": 235,
   "metadata": {},
   "outputs": [],
   "source": [
    "df3 = df[['orig', 'reply', 'COP', 'FCG', 'RT', 'PS', 'escalated', 'conv_id', 'disagreement', 'summ_PT']]\n",
    "\n",
    "df3 = df3[~df.disagreement.isna()]"
   ]
  },
  {
   "cell_type": "code",
   "execution_count": 240,
   "metadata": {
    "scrolled": true
   },
   "outputs": [],
   "source": [
    "df3_grouped = df3.groupby('conv_id').agg(\n",
    "    {\n",
    "        'summ_PT':'mean',\n",
    "        'escalated':['count', 'max']\n",
    "    })"
   ]
  },
  {
   "cell_type": "code",
   "execution_count": 245,
   "metadata": {},
   "outputs": [],
   "source": [
    "df3_grouped.dropna(inplace=True)"
   ]
  },
  {
   "cell_type": "code",
   "execution_count": 246,
   "metadata": {},
   "outputs": [
    {
     "data": {
      "text/html": [
       "<div>\n",
       "<style scoped>\n",
       "    .dataframe tbody tr th:only-of-type {\n",
       "        vertical-align: middle;\n",
       "    }\n",
       "\n",
       "    .dataframe tbody tr th {\n",
       "        vertical-align: top;\n",
       "    }\n",
       "\n",
       "    .dataframe thead tr th {\n",
       "        text-align: left;\n",
       "    }\n",
       "\n",
       "    .dataframe thead tr:last-of-type th {\n",
       "        text-align: right;\n",
       "    }\n",
       "</style>\n",
       "<table border=\"1\" class=\"dataframe\">\n",
       "  <thead>\n",
       "    <tr>\n",
       "      <th></th>\n",
       "      <th>summ_PT</th>\n",
       "      <th colspan=\"2\" halign=\"left\">escalated</th>\n",
       "    </tr>\n",
       "    <tr>\n",
       "      <th></th>\n",
       "      <th>mean</th>\n",
       "      <th>count</th>\n",
       "      <th>max</th>\n",
       "    </tr>\n",
       "    <tr>\n",
       "      <th>conv_id</th>\n",
       "      <th></th>\n",
       "      <th></th>\n",
       "      <th></th>\n",
       "    </tr>\n",
       "  </thead>\n",
       "  <tbody>\n",
       "    <tr>\n",
       "      <th>102560318.1367.1367</th>\n",
       "      <td>3.000000</td>\n",
       "      <td>2</td>\n",
       "      <td>0</td>\n",
       "    </tr>\n",
       "    <tr>\n",
       "      <th>102988832.9898.9898</th>\n",
       "      <td>2.500000</td>\n",
       "      <td>11</td>\n",
       "      <td>0</td>\n",
       "    </tr>\n",
       "    <tr>\n",
       "      <th>103078206.4910.4910</th>\n",
       "      <td>1.000000</td>\n",
       "      <td>2</td>\n",
       "      <td>0</td>\n",
       "    </tr>\n",
       "    <tr>\n",
       "      <th>103107618.86212.86212</th>\n",
       "      <td>2.642857</td>\n",
       "      <td>16</td>\n",
       "      <td>0</td>\n",
       "    </tr>\n",
       "    <tr>\n",
       "      <th>103346049.16573.16573</th>\n",
       "      <td>2.571429</td>\n",
       "      <td>7</td>\n",
       "      <td>0</td>\n",
       "    </tr>\n",
       "    <tr>\n",
       "      <th>...</th>\n",
       "      <td>...</td>\n",
       "      <td>...</td>\n",
       "      <td>...</td>\n",
       "    </tr>\n",
       "    <tr>\n",
       "      <th>770472134.38557.38557</th>\n",
       "      <td>2.000000</td>\n",
       "      <td>29</td>\n",
       "      <td>1</td>\n",
       "    </tr>\n",
       "    <tr>\n",
       "      <th>771783260.12657.12657</th>\n",
       "      <td>1.473684</td>\n",
       "      <td>19</td>\n",
       "      <td>1</td>\n",
       "    </tr>\n",
       "    <tr>\n",
       "      <th>781245470.3456.3456</th>\n",
       "      <td>2.714286</td>\n",
       "      <td>9</td>\n",
       "      <td>1</td>\n",
       "    </tr>\n",
       "    <tr>\n",
       "      <th>785620210.22955.22955</th>\n",
       "      <td>2.000000</td>\n",
       "      <td>13</td>\n",
       "      <td>1</td>\n",
       "    </tr>\n",
       "    <tr>\n",
       "      <th>788732140.42233.42233</th>\n",
       "      <td>1.942857</td>\n",
       "      <td>37</td>\n",
       "      <td>1</td>\n",
       "    </tr>\n",
       "  </tbody>\n",
       "</table>\n",
       "<p>357 rows × 3 columns</p>\n",
       "</div>"
      ],
      "text/plain": [
       "                        summ_PT escalated    \n",
       "                           mean     count max\n",
       "conv_id                                      \n",
       "102560318.1367.1367    3.000000         2   0\n",
       "102988832.9898.9898    2.500000        11   0\n",
       "103078206.4910.4910    1.000000         2   0\n",
       "103107618.86212.86212  2.642857        16   0\n",
       "103346049.16573.16573  2.571429         7   0\n",
       "...                         ...       ...  ..\n",
       "770472134.38557.38557  2.000000        29   1\n",
       "771783260.12657.12657  1.473684        19   1\n",
       "781245470.3456.3456    2.714286         9   1\n",
       "785620210.22955.22955  2.000000        13   1\n",
       "788732140.42233.42233  1.942857        37   1\n",
       "\n",
       "[357 rows x 3 columns]"
      ]
     },
     "execution_count": 246,
     "metadata": {},
     "output_type": "execute_result"
    }
   ],
   "source": [
    "df3_grouped"
   ]
  },
  {
   "cell_type": "code",
   "execution_count": 294,
   "metadata": {},
   "outputs": [],
   "source": [
    "df3_PT = df3_grouped['summ_PT']['mean']\n",
    "df3_count = df3_grouped['escalated']['count']"
   ]
  },
  {
   "cell_type": "code",
   "execution_count": 295,
   "metadata": {},
   "outputs": [
    {
     "data": {
      "text/plain": [
       "<matplotlib.collections.PathCollection at 0x7faa46a3f050>"
      ]
     },
     "execution_count": 295,
     "metadata": {},
     "output_type": "execute_result"
    },
    {
     "data": {
      "image/png": "[encoded data removed]",
      "text/plain": [
       "<Figure size 432x288 with 1 Axes>"
      ]
     },
     "metadata": {
      "needs_background": "light"
     },
     "output_type": "display_data"
    }
   ],
   "source": [
    "plt.scatter(df3_PT, df3_count)"
   ]
  },
  {
   "cell_type": "code",
   "execution_count": 313,
   "metadata": {},
   "outputs": [],
   "source": [
    "corr = stats.spearmanr(df3_PT, df3_count)"
   ]
  },
  {
   "cell_type": "code",
   "execution_count": 316,
   "metadata": {},
   "outputs": [
    {
     "name": "stdout",
     "output_type": "stream",
     "text": [
      "To test the third hypothesis, the mean perspective-taking score and the number of utterances were calculated for each conversation. Then, Spearman correlation coefficient was calculated. The results showed that there is no significant correlation between the number of utterances and perspective-taking scores: r = -0.079, p = 0.14, N = 357.\n"
     ]
    }
   ],
   "source": [
    "print(\n",
    "f'To test the third hypothesis, the mean perspective-taking score and the number of utterances were calculated for \\\n",
    "each conversation. Then, Spearman correlation coefficient was calculated. The results showed that there is no \\\n",
    "significant correlation between the number of utterances and perspective-taking scores: r = {corr[0]:.2}, \\\n",
    "p = {corr[1]:.2}, N = {len(df3_grouped)}.'\n",
    ")"
   ]
  },
  {
   "cell_type": "markdown",
   "metadata": {},
   "source": [
    "### Fourth hypothesis"
   ]
  },
  {
   "cell_type": "markdown",
   "metadata": {},
   "source": [
    "The fourth hypothesis states that the level of Perspective-Taking in a discussion will be dependent on the Perspective-Taking level in the first reply. This hypothesis is based on the idea that there are communication patterns that promote empathy in response (Pfeil & Zaphiris, 2007). We suggest that exercising Perspective-Taking at the beginning of the discussion will promote a similar pattern in subsequent answers."
   ]
  },
  {
   "cell_type": "code",
   "execution_count": 351,
   "metadata": {},
   "outputs": [
    {
     "data": {
      "text/plain": [
       "0    1681\n",
       "1     480\n",
       "Name: disagreement, dtype: Int64"
      ]
     },
     "execution_count": 351,
     "metadata": {},
     "output_type": "execute_result"
    }
   ],
   "source": [
    "df.head()\n",
    "def first_reply_PT(x):\n",
    "    return x.iloc[0]\n",
    "def my_mean(x):\n",
    "    return np.mean(x.iloc[1:])\n",
    "df.disagreement.value_counts()"
   ]
  },
  {
   "cell_type": "code",
   "execution_count": 352,
   "metadata": {},
   "outputs": [],
   "source": [
    "df4 = df3.groupby('conv_id').agg(\n",
    "{\n",
    "    'summ_PT':[first_reply_PT, my_mean] \n",
    "})\n",
    "df4.dropna(inplace = True)"
   ]
  },
  {
   "cell_type": "code",
   "execution_count": 353,
   "metadata": {},
   "outputs": [],
   "source": [
    "first_reply = df4['summ_PT']['first_reply_PT']\n",
    "mean = df4['summ_PT']['my_mean']"
   ]
  },
  {
   "cell_type": "code",
   "execution_count": 354,
   "metadata": {},
   "outputs": [
    {
     "data": {
      "text/plain": [
       "<matplotlib.collections.PathCollection at 0x7faa2f2b8790>"
      ]
     },
     "execution_count": 354,
     "metadata": {},
     "output_type": "execute_result"
    },
    {
     "data": {
      "image/png": "[encoded data removed]",
      "text/plain": [
       "<Figure size 432x288 with 1 Axes>"
      ]
     },
     "metadata": {
      "needs_background": "light"
     },
     "output_type": "display_data"
    }
   ],
   "source": [
    "plt.scatter(first_reply, mean)"
   ]
  },
  {
   "cell_type": "code",
   "execution_count": 369,
   "metadata": {},
   "outputs": [
    {
     "data": {
      "text/plain": [
       "<matplotlib.axes._subplots.AxesSubplot at 0x7faa2f19da10>"
      ]
     },
     "execution_count": 369,
     "metadata": {},
     "output_type": "execute_result"
    },
    {
     "data": {
      "image/png": "[encoded data removed]",
      "text/plain": [
       "<Figure size 432x288 with 1 Axes>"
      ]
     },
     "metadata": {
      "needs_background": "light"
     },
     "output_type": "display_data"
    }
   ],
   "source": [
    "import seaborn as sns\n",
    "sns.boxplot(x = first_reply, y = mean)"
   ]
  },
  {
   "cell_type": "code",
   "execution_count": 355,
   "metadata": {},
   "outputs": [
    {
     "data": {
      "text/plain": [
       "SpearmanrResult(correlation=0.21850617741840914, pvalue=0.00036654083527436606)"
      ]
     },
     "execution_count": 355,
     "metadata": {},
     "output_type": "execute_result"
    }
   ],
   "source": [
    "stats.spearmanr(first_reply, mean)"
   ]
  },
  {
   "cell_type": "code",
   "execution_count": 365,
   "metadata": {},
   "outputs": [],
   "source": [
    "from sklearn.linear_model import LinearRegression\n",
    "\n",
    "X = np.array(first_reply).reshape(-1, 1)\n",
    "y = np.array(mean)\n",
    "\n",
    "# Initialise and fit model\n",
    "lm = LinearRegression()\n",
    "model = lm.fit(X, y)"
   ]
  },
  {
   "cell_type": "code",
   "execution_count": 368,
   "metadata": {},
   "outputs": [
    {
     "name": "stdout",
     "output_type": "stream",
     "text": [
      "alpha = 1.9693533782441446\n",
      "betas = [0.15022315]\n"
     ]
    }
   ],
   "source": [
    "print(f'alpha = {model.intercept_}')\n",
    "print(f'betas = {model.coef_}')"
   ]
  },
  {
   "cell_type": "code",
   "execution_count": null,
   "metadata": {},
   "outputs": [],
   "source": [
    "print(\n",
    "f'')"
   ]
  }
 ],
 "metadata": {
  "kernelspec": {
   "display_name": "Python 3",
   "language": "python",
   "name": "python3"
  },
  "language_info": {
   "codemirror_mode": {
    "name": "ipython",
    "version": 3
   },
   "file_extension": ".py",
   "mimetype": "text/x-python",
   "name": "python",
   "nbconvert_exporter": "python",
   "pygments_lexer": "ipython3",
   "version": "3.7.4"
  }
 },
 "nbformat": 4,
 "nbformat_minor": 2
}
