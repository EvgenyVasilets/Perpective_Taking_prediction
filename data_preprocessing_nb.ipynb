{
 "cells": [
  {
   "cell_type": "code",
   "execution_count": 1,
   "metadata": {},
   "outputs": [],
   "source": [
    "import pandas as pd\n",
    "import json\n",
    "import matplotlib.pyplot as plt\n",
    "import numpy as np\n",
    "pd.set_option('display.max_colwidth', 1000)\n",
    "\n"
   ]
  },
  {
   "cell_type": "code",
   "execution_count": null,
   "metadata": {},
   "outputs": [],
   "source": []
  },
  {
   "cell_type": "code",
   "execution_count": 2,
   "metadata": {},
   "outputs": [],
   "source": [
    "# escalated and non-escalated file names\n",
    "file_paths = ['/Users/evgenyvasilets/Documents/UvA/internship_2/data/not_escalated.json', '/Users/evgenyvasilets/Documents/UvA/internship_2/data/escalated.json']\n",
    "# create a list of dataframes\n",
    "dfs = []\n",
    "# create a single database\n",
    "for idx, file in enumerate(file_paths):\n",
    "    with open(file) as f:\n",
    "        # Create a file with all escalated disputes\n",
    "        data = json.load(f)\n",
    "        # make a list of dictionaries that consist only of conversations\n",
    "        conv_list = []\n",
    "        for dispute in data:\n",
    "            disp = dispute['conversation']\n",
    "            conv_list.extend(disp)\n",
    "        df = pd.DataFrame(conv_list)\n",
    "        # The number of words in an utterance\n",
    "        df['word_count'] = df['text'].str.count(' ') + 1\n",
    "        # Whether the dispute was escalated (0 = not escalated, 1 = escalated) \n",
    "        df['escalated'] = idx\n",
    "        # rename id to original id in df[1] (escalated)\n",
    "        if idx == 1:\n",
    "            df.rename(columns={\"id\": \"original_id\"}, inplace=True)\n",
    "        dfs.append(df)\n",
    "# Create a dataframe with both escalated and not escalated disputes\n",
    "united_df = pd.concat(dfs)\n",
    "def word_count_esc(df = united_df):\n",
    "    for ind, val in enumerate(['not escalated:','escalated:']):\n",
    "        print(val)\n",
    "        print('Utterance num = ' + str(df[df.escalated == ind].original_id.nunique()))\n",
    "        print('Dispute num = ' + str(df[df.escalated == ind].conv_id.nunique()) + '\\n')\n",
    "# word_count_esc()\n",
    "\n",
    "# drop id column\n",
    "united_df.drop(columns = ['id'], inplace = True)"
   ]
  },
  {
   "cell_type": "markdown",
   "metadata": {},
   "source": [
    "The original dataset consists of 4441 utterances in escalated and 133019 utterances in non-escalated disputes. The number of disputes is 217 and 9006 repectively. "
   ]
  },
  {
   "cell_type": "code",
   "execution_count": 3,
   "metadata": {},
   "outputs": [
    {
     "name": "stdout",
     "output_type": "stream",
     "text": [
      "count    137460.000000\n",
      "mean         86.189481\n",
      "std         163.104842\n",
      "min           1.000000\n",
      "25%          24.000000\n",
      "50%          52.000000\n",
      "75%         103.000000\n",
      "max       17552.000000\n",
      "Name: word_count, dtype: float64\n",
      "\n",
      "Without long utterances:\n",
      "not escalated:\n",
      "Utterance num = 123712\n",
      "Dispute num = 8768\n",
      "\n",
      "escalated:\n",
      "Utterance num = 4181\n",
      "Dispute num = 208\n",
      "\n",
      "user                string\n",
      "original_id         string\n",
      "time                string\n",
      "type                string\n",
      "reply_to            string\n",
      "text                string\n",
      "toxicity           float64\n",
      "severe_toxicity    float64\n",
      "conv_id             string\n",
      "pagetitle           string\n",
      "word_count           Int64\n",
      "escalated            Int64\n",
      "dtype: object\n",
      "\n",
      "Without duplicates:\n",
      "not escalated:\n",
      "Utterance num = 123586\n",
      "Dispute num = 8763\n",
      "\n",
      "escalated:\n",
      "Utterance num = 4055\n",
      "Dispute num = 203\n",
      "\n",
      "without no_reply\n",
      "not escalated:\n",
      "Utterance num = 25493\n",
      "Dispute num = 2975\n",
      "\n",
      "escalated:\n",
      "Utterance num = 1726\n",
      "Dispute num = 97\n",
      "\n"
     ]
    },
    {
     "data": {
      "image/png": "[encoded data removed]",
      "text/plain": [
       "<Figure size 432x288 with 1 Axes>"
      ]
     },
     "metadata": {
      "needs_background": "light"
     },
     "output_type": "display_data"
    }
   ],
   "source": [
    "# Check how many disputes now have excluded utterances \n",
    "excluded = united_df[united_df.word_count > 1000]\n",
    "plt.hist(united_df[united_df.escalated == 1].word_count)\n",
    "print(united_df.word_count.describe())\n",
    "# Delete from df all utterances that are longer than 1000 words\n",
    "united_df_shortened = united_df[~united_df.isin(excluded)]\n",
    "united_df_shortened.original_id.count()\n",
    "\n",
    "\n",
    "# exclude conversations that have incomplete number of utterances\n",
    "excluded_conv_id = excluded.conv_id.drop_duplicates()\n",
    "united_df_shortened = united_df_shortened[~united_df_shortened.conv_id.isin(excluded_conv_id)]\n",
    "# Check how many disputes and utterances are left\n",
    "print('\\nWithout long utterances:')\n",
    "word_count_esc(united_df_shortened)\n",
    "\n",
    "# Convert data to the best possible dtype\n",
    "united_df_shortened = united_df_shortened.convert_dtypes()\n",
    "print(united_df_shortened.dtypes)\n",
    "\n",
    "# Delete duplicates (in both escalated and non-escalated datasets)\n",
    "dub = united_df_shortened.original_id.duplicated() == True\n",
    "df_dub = united_df_shortened[dub]\n",
    "df_nodub = united_df_shortened[~united_df_shortened.conv_id.isin(df_dub.conv_id)]\n",
    "print('\\nWithout duplicates:')\n",
    "word_count_esc(df_nodub)\n",
    "\n",
    "# Assign the final version of the df\n",
    "df = df_nodub\n",
    "\n",
    "orig_indexes = df.original_id\n",
    "reply_to_indexes = df.reply_to\n",
    "reply_to_indexes = reply_to_indexes.dropna()\n",
    "\n",
    "# Check whether any reply to id are not in orig ind\n",
    "main_list = list(set(reply_to_indexes).difference(orig_indexes))\n",
    "# delete all disputes which have reply_to indexes in the main list\n",
    "to_remove = df[df.reply_to.isin(main_list)]\n",
    "to_remove.head()\n",
    "df_without_noreply = df[~df.conv_id.isin(to_remove.conv_id)]\n",
    "print('without no_reply')\n",
    "word_count_esc(df_without_noreply)\n",
    "\n",
    "# Assign the final version of the df\n",
    "df = df_without_noreply\n",
    "\n",
    "# Set new index\n",
    "df.set_index('original_id', inplace = True)\n",
    "\n",
    "# Drop identical rows\n",
    "df = df.drop_duplicates()\n",
    "\n",
    "# Make self-replies a single utterance\n",
    "for index, row in df.iterrows():\n",
    "    # Make sure that this is a reply to a message\n",
    "    if not type(row.reply_to) is str:\n",
    "        continue\n",
    "    if row.user == df.loc[row.reply_to].user:\n",
    "        new_string = df.loc[row.reply_to].text + '\\n' + row.text\n",
    "        df.at[index, 'text'] = new_string\n",
    "        df.at[row.reply_to, 'text'] = new_string"
   ]
  },
  {
   "cell_type": "markdown",
   "metadata": {},
   "source": [
    "The mean number of words in an utterance is 86.19, the minimum is one and the maximum is 17552. As the data is extremely skewed, all utterances which word number was higher than the 1000, was excluded from the analysis. All disputes, that included utterances larger than 1000 words were also excluded from the dataset, as such disputes would lack sufficient data for the analysis.  The number of utterances in escalated and not escalated disputes was reduced to 4181 and 123712 respectively. The number of disputes is now equal to 208 and 8768 in escalated and not escalated datasets respectively. "
   ]
  },
  {
   "cell_type": "code",
   "execution_count": 4,
   "metadata": {},
   "outputs": [],
   "source": [
    "dic_dlgs = {'orig':[], \n",
    "           'reply':[], \n",
    "           'orig_id':[], \n",
    "           'reply_id':[], \n",
    "           'orig_user':[], \n",
    "           'reply_user':[], \n",
    "           'orig_toxicity':[], \n",
    "           'orig_severe_toxicity':[], \n",
    "           'reply_toxicity':[], \n",
    "           'reply_severe_toxicity':[],                   \n",
    "           'conv_id':[], \n",
    "           'pagetitle':[], \n",
    "           'escalated':[]\n",
    "            }\n",
    "\n",
    "for index, reply_row in df.iterrows():\n",
    "    # Make sure that this is a reply to a message\n",
    "    if not type(reply_row.reply_to) is str:\n",
    "        continue\n",
    "    # This is the row with the original message\n",
    "    orig_row = df.loc[reply_row.reply_to]\n",
    "    # If this is a self-reply, make it a single utterance\n",
    "    dic_dlgs['orig'].append(orig_row.text)\n",
    "    dic_dlgs['reply'].append(reply_row.text) \n",
    "    dic_dlgs['orig_id'].append(orig_row.name)\n",
    "    dic_dlgs['reply_id'].append(reply_row.name)\n",
    "    dic_dlgs['reply_user'].append(reply_row.user)\n",
    "    dic_dlgs['orig_user'].append(orig_row.user)\n",
    "    dic_dlgs['orig_toxicity'].append(orig_row.toxicity)\n",
    "    dic_dlgs['orig_severe_toxicity'].append(orig_row.severe_toxicity)\n",
    "    dic_dlgs['reply_toxicity'].append(reply_row.toxicity)\n",
    "    dic_dlgs['reply_severe_toxicity'].append(reply_row.severe_toxicity)\n",
    "    dic_dlgs['conv_id'].append(reply_row.conv_id)\n",
    "    dic_dlgs['escalated'].append(reply_row.escalated)\n",
    "    dic_dlgs['pagetitle'].append(reply_row.pagetitle)\n",
    "    \n",
    "        \n",
    "df_dlg = pd.DataFrame(dic_dlgs)\n",
    "df_dlg.head()\n",
    "\n",
    "# drop lines where reply and orig are identical (moderated self-replies)\n",
    "df_dlg.drop(df_dlg[df_dlg.orig == df_dlg.reply].index, inplace = True)\n",
    "\n",
    "# drop lines where authors of a reply and original mesages are the same \n",
    "df_dlg.drop(df_dlg[df_dlg.orig_user == df_dlg.reply_user].index, inplace = True)\n",
    "\n",
    "# drop lines that were labled during the training session \n",
    "df_dlg.drop(df_dlg.loc[:204].index, inplace = True)"
   ]
  },
  {
   "cell_type": "code",
   "execution_count": 5,
   "metadata": {},
   "outputs": [
    {
     "name": "stdout",
     "output_type": "stream",
     "text": [
      "14419\n",
      "1339\n"
     ]
    }
   ],
   "source": [
    "non_escalated = df_dlg[df_dlg.escalated == 0]\n",
    "escalated = df_dlg[df_dlg.escalated == 1]\n",
    "print(len(non_escalated))\n",
    "print(len(escalated))"
   ]
  },
  {
   "cell_type": "code",
   "execution_count": 8,
   "metadata": {},
   "outputs": [],
   "source": [
    "df = pd.concat([non_escalated, escalated])"
   ]
  },
  {
   "cell_type": "code",
   "execution_count": 10,
   "metadata": {},
   "outputs": [
    {
     "data": {
      "text/plain": [
       "conv_id\n",
       "10053262.421911.421911     3\n",
       "10063456.0.0               4\n",
       "10177313.14273.14273      11\n",
       "10180335.27851.27851      24\n",
       "102520933.17694.17694      2\n",
       "                          ..\n",
       "99878840.43446.43446       6\n",
       "99880522.6412.6412         7\n",
       "99902295.265.265           4\n",
       "99929037.868.868           5\n",
       "99959922.67638.67638       5\n",
       "Name: orig, Length: 2930, dtype: int64"
      ]
     },
     "execution_count": 10,
     "metadata": {},
     "output_type": "execute_result"
    }
   ],
   "source": [
    "df.groupby('conv_id')['orig'].count()"
   ]
  },
  {
   "cell_type": "code",
   "execution_count": 6,
   "metadata": {},
   "outputs": [
    {
     "data": {
      "text/plain": [
       "19983    Sugar (Maroon 5 song)\n",
       "19984    Sugar (Maroon 5 song)\n",
       "19985    Sugar (Maroon 5 song)\n",
       "19986    Sugar (Maroon 5 song)\n",
       "19987    Sugar (Maroon 5 song)\n",
       "19988    Sugar (Maroon 5 song)\n",
       "19989    Sugar (Maroon 5 song)\n",
       "19990    Sugar (Maroon 5 song)\n",
       "19991    Sugar (Maroon 5 song)\n",
       "19992    Sugar (Maroon 5 song)\n",
       "19993    Sugar (Maroon 5 song)\n",
       "19994    Sugar (Maroon 5 song)\n",
       "19996                Johnnie2u\n",
       "19997                Johnnie2u\n",
       "19998                Johnnie2u\n",
       "19999                Johnnie2u\n",
       "20000                Johnnie2u\n",
       "20001                Johnnie2u\n",
       "20002                Johnnie2u\n",
       "20003                Johnnie2u\n",
       "Name: pagetitle, dtype: object"
      ]
     },
     "execution_count": 6,
     "metadata": {},
     "output_type": "execute_result"
    }
   ],
   "source": [
    "escalated.iloc[400:420].pagetitle"
   ]
  },
  {
   "cell_type": "code",
   "execution_count": 7,
   "metadata": {},
   "outputs": [],
   "source": [
    "\n",
    "tijs_non_escalated = non_escalated.loc[:1547]\n",
    "tijs_escalated = escalated.loc[:19994]\n",
    "Tijs = pd.concat([tijs_non_escalated, tijs_escalated])\n"
   ]
  },
  {
   "cell_type": "code",
   "execution_count": 8,
   "metadata": {},
   "outputs": [
    {
     "data": {
      "text/plain": [
       "3815    George W. Bush\n",
       "3816    George W. Bush\n",
       "3818     Islamofascism\n",
       "3819     Islamofascism\n",
       "3820     Islamofascism\n",
       "3821     Islamofascism\n",
       "3822     Islamofascism\n",
       "3823     Islamofascism\n",
       "3824     Islamofascism\n",
       "3826         Tom DeLay\n",
       "Name: pagetitle, dtype: object"
      ]
     },
     "metadata": {},
     "output_type": "display_data"
    },
    {
     "name": "stdout",
     "output_type": "stream",
     "text": [
      "1709\n",
      "926\n"
     ]
    }
   ],
   "source": [
    "left = df_dlg.drop(df_dlg[df_dlg.index.isin(Tijs.index)].index)\n",
    "display(left[left.escalated == 0].iloc[1700:1710].pagetitle)\n",
    "Evgeny_not_escalated = left[left.escalated == 0].loc[:3824]\n",
    "Evgeny_escalated = left[left.escalated == 1].iloc[:-1]\n",
    "\n",
    "print(len(Evgeny_not_escalated))\n",
    "print(len(Evgeny_escalated))\n",
    "Evgeny = pd.concat([Evgeny_not_escalated, Evgeny_escalated, tijs_non_escalated.iloc[:100], tijs_escalated.iloc[:100]])"
   ]
  },
  {
   "cell_type": "code",
   "execution_count": 9,
   "metadata": {},
   "outputs": [
    {
     "name": "stdout",
     "output_type": "stream",
     "text": [
      "2835\n",
      "1413\n"
     ]
    }
   ],
   "source": [
    "print(len(Evgeny))\n",
    "print(len(Tijs))"
   ]
  },
  {
   "cell_type": "code",
   "execution_count": 10,
   "metadata": {},
   "outputs": [],
   "source": [
    "# # Make utterences where a user answers to themselves in a subsequent message a single utterance. \n",
    "# # All answers to any of these utterances should be considered as answers to the newly created utterance. \n",
    "# actual_df = df_dlg.copy()\n",
    "\n",
    " \n",
    "# # Firstly, unite the utterances. \n",
    "# for index, row in actual_df.iterrows(): \n",
    "#     if row.orig_user == row.reply_user:\n",
    "#         new_string = row.orig + '\\n' + row.reply\n",
    "#         actual_df.at[index, 'orig'] = new_string\n",
    "#         actual_df.at[index, 'reply'] = new_string\n"
   ]
  },
  {
   "cell_type": "code",
   "execution_count": 11,
   "metadata": {},
   "outputs": [],
   "source": [
    "# df_dlg.to_excel('dialogues_v2.xlsx')"
   ]
  },
  {
   "cell_type": "code",
   "execution_count": 12,
   "metadata": {},
   "outputs": [],
   "source": [
    "# Evgeny.to_excel('dialogues_v3_Evgeny.xlsx')\n",
    "# Tijs.to_excel('dialogues_v3_Tijs.xlsx')"
   ]
  },
  {
   "cell_type": "code",
   "execution_count": 23,
   "metadata": {
    "scrolled": false
   },
   "outputs": [
    {
     "data": {
      "text/html": [
       "<div>\n",
       "<style scoped>\n",
       "    .dataframe tbody tr th:only-of-type {\n",
       "        vertical-align: middle;\n",
       "    }\n",
       "\n",
       "    .dataframe tbody tr th {\n",
       "        vertical-align: top;\n",
       "    }\n",
       "\n",
       "    .dataframe thead th {\n",
       "        text-align: right;\n",
       "    }\n",
       "</style>\n",
       "<table border=\"1\" class=\"dataframe\">\n",
       "  <thead>\n",
       "    <tr style=\"text-align: right;\">\n",
       "      <th></th>\n",
       "      <th>user</th>\n",
       "      <th>original_id</th>\n",
       "      <th>time</th>\n",
       "      <th>type</th>\n",
       "      <th>reply_to</th>\n",
       "      <th>text</th>\n",
       "      <th>toxicity</th>\n",
       "      <th>severe_toxicity</th>\n",
       "      <th>conv_id</th>\n",
       "      <th>pagetitle</th>\n",
       "      <th>word_count</th>\n",
       "      <th>escalated</th>\n",
       "    </tr>\n",
       "  </thead>\n",
       "  <tbody>\n",
       "    <tr>\n",
       "      <th>1110</th>\n",
       "      <td>Per Abrahamsen</td>\n",
       "      <td>103002793.17970.17970</td>\n",
       "      <td>2007-01-24 22:20:04</td>\n",
       "      <td>modification</td>\n",
       "      <td>102988832.9898.9898</td>\n",
       "      <td>(I don't know about the libel.)  The claim \"Sunni Muslim philosophy contributes to his belief in segregation\" does not obviously follow from the cited article.  The article text is not very clear, and the phrases \"segregation\" and \"Sunni Muslim\" does not appear.  One might guess from the anecdotes told in the article that MA believes in segregation, but it is not directly stated anywhere.  And there might be a connection between that belief and his Black Muslim connection, again it is not especially clear from the text alone.  The jump from \"Black Muslim\" to \"Sunni Muslim philosophy\" as a reason is not supported at all.\\nEven if MA believes in segregation, it is a question if that fact is of encyclopedic value.  If the SI quote is the strongest statements for segregation he has made, it hasn't.  It is only encyclopedic, if it is part of his public persona.  If it is, the best bet would be to mention any segregation activities in the section talking about his Nation of Islam involve...</td>\n",
       "      <td>0.071113</td>\n",
       "      <td>0.01522</td>\n",
       "      <td>102988832.9898.9898</td>\n",
       "      <td>Muhammad Ali</td>\n",
       "      <td>192</td>\n",
       "      <td>0</td>\n",
       "    </tr>\n",
       "    <tr>\n",
       "      <th>1123</th>\n",
       "      <td>Chrislk02</td>\n",
       "      <td>116540191.9823.0</td>\n",
       "      <td>2007-03-20 15:12:30</td>\n",
       "      <td>original</td>\n",
       "      <td>102988832.9898.9898</td>\n",
       "      <td>(I don't know about the libel.)  The claim \"Sunni Muslim philosophy contributes to his belief in segregation\" does not obviously follow from the cited article.  The article text is not very clear, and the phrases \"segregation\" and \"Sunni Muslim\" does not appear.  One might guess from the anecdotes told in the article that MA believes in segregation, but it is not directly stated anywhere.  And there might be a connection between that belief and his Black Muslim connection, again it is not especially clear from the text alone.  The jump from \"Black Muslim\" to \"Sunni Muslim philosophy\" as a reason is not supported at all.\\nEven if MA believes in segregation, it is a question if that fact is of encyclopedic value.  If the SI quote is the strongest statements for segregation he has made, it hasn't.  It is only encyclopedic, if it is part of his public persona.  If it is, the best bet would be to mention any segregation activities in the section talking about his Nation of Islam involve...</td>\n",
       "      <td>0.071113</td>\n",
       "      <td>0.01522</td>\n",
       "      <td>102988832.9898.9898</td>\n",
       "      <td>Muhammad Ali</td>\n",
       "      <td>192</td>\n",
       "      <td>0</td>\n",
       "    </tr>\n",
       "    <tr>\n",
       "      <th>1126</th>\n",
       "      <td>Wimt</td>\n",
       "      <td>124322688.9824.0</td>\n",
       "      <td>2007-04-20 10:58:12</td>\n",
       "      <td>original</td>\n",
       "      <td>102988832.9898.9898</td>\n",
       "      <td>(I don't know about the libel.)  The claim \"Sunni Muslim philosophy contributes to his belief in segregation\" does not obviously follow from the cited article.  The article text is not very clear, and the phrases \"segregation\" and \"Sunni Muslim\" does not appear.  One might guess from the anecdotes told in the article that MA believes in segregation, but it is not directly stated anywhere.  And there might be a connection between that belief and his Black Muslim connection, again it is not especially clear from the text alone.  The jump from \"Black Muslim\" to \"Sunni Muslim philosophy\" as a reason is not supported at all.\\nEven if MA believes in segregation, it is a question if that fact is of encyclopedic value.  If the SI quote is the strongest statements for segregation he has made, it hasn't.  It is only encyclopedic, if it is part of his public persona.  If it is, the best bet would be to mention any segregation activities in the section talking about his Nation of Islam involve...</td>\n",
       "      <td>0.071113</td>\n",
       "      <td>0.01522</td>\n",
       "      <td>102988832.9898.9898</td>\n",
       "      <td>Muhammad Ali</td>\n",
       "      <td>192</td>\n",
       "      <td>0</td>\n",
       "    </tr>\n",
       "    <tr>\n",
       "      <th>1129</th>\n",
       "      <td>Garion96</td>\n",
       "      <td>132965070.9879.0</td>\n",
       "      <td>2007-05-23 17:49:17</td>\n",
       "      <td>original</td>\n",
       "      <td>102988832.9898.9898</td>\n",
       "      <td>(I don't know about the libel.)  The claim \"Sunni Muslim philosophy contributes to his belief in segregation\" does not obviously follow from the cited article.  The article text is not very clear, and the phrases \"segregation\" and \"Sunni Muslim\" does not appear.  One might guess from the anecdotes told in the article that MA believes in segregation, but it is not directly stated anywhere.  And there might be a connection between that belief and his Black Muslim connection, again it is not especially clear from the text alone.  The jump from \"Black Muslim\" to \"Sunni Muslim philosophy\" as a reason is not supported at all.\\nEven if MA believes in segregation, it is a question if that fact is of encyclopedic value.  If the SI quote is the strongest statements for segregation he has made, it hasn't.  It is only encyclopedic, if it is part of his public persona.  If it is, the best bet would be to mention any segregation activities in the section talking about his Nation of Islam involve...</td>\n",
       "      <td>0.071113</td>\n",
       "      <td>0.01522</td>\n",
       "      <td>102988832.9898.9898</td>\n",
       "      <td>Muhammad Ali</td>\n",
       "      <td>192</td>\n",
       "      <td>0</td>\n",
       "    </tr>\n",
       "  </tbody>\n",
       "</table>\n",
       "</div>"
      ],
      "text/plain": [
       "                user            original_id                 time  \\\n",
       "1110  Per Abrahamsen  103002793.17970.17970  2007-01-24 22:20:04   \n",
       "1123       Chrislk02       116540191.9823.0  2007-03-20 15:12:30   \n",
       "1126            Wimt       124322688.9824.0  2007-04-20 10:58:12   \n",
       "1129        Garion96       132965070.9879.0  2007-05-23 17:49:17   \n",
       "\n",
       "              type             reply_to  \\\n",
       "1110  modification  102988832.9898.9898   \n",
       "1123      original  102988832.9898.9898   \n",
       "1126      original  102988832.9898.9898   \n",
       "1129      original  102988832.9898.9898   \n",
       "\n",
       "                                                                                                                                                                                                                                                                                                                                                                                                                                                                                                                                                                                                                                                                                                                                                                                                                                                                                                                                                                                                                                         text  \\\n",
       "1110  (I don't know about the libel.)  The claim \"Sunni Muslim philosophy contributes to his belief in segregation\" does not obviously follow from the cited article.  The article text is not very clear, and the phrases \"segregation\" and \"Sunni Muslim\" does not appear.  One might guess from the anecdotes told in the article that MA believes in segregation, but it is not directly stated anywhere.  And there might be a connection between that belief and his Black Muslim connection, again it is not especially clear from the text alone.  The jump from \"Black Muslim\" to \"Sunni Muslim philosophy\" as a reason is not supported at all.\\nEven if MA believes in segregation, it is a question if that fact is of encyclopedic value.  If the SI quote is the strongest statements for segregation he has made, it hasn't.  It is only encyclopedic, if it is part of his public persona.  If it is, the best bet would be to mention any segregation activities in the section talking about his Nation of Islam involve...   \n",
       "1123  (I don't know about the libel.)  The claim \"Sunni Muslim philosophy contributes to his belief in segregation\" does not obviously follow from the cited article.  The article text is not very clear, and the phrases \"segregation\" and \"Sunni Muslim\" does not appear.  One might guess from the anecdotes told in the article that MA believes in segregation, but it is not directly stated anywhere.  And there might be a connection between that belief and his Black Muslim connection, again it is not especially clear from the text alone.  The jump from \"Black Muslim\" to \"Sunni Muslim philosophy\" as a reason is not supported at all.\\nEven if MA believes in segregation, it is a question if that fact is of encyclopedic value.  If the SI quote is the strongest statements for segregation he has made, it hasn't.  It is only encyclopedic, if it is part of his public persona.  If it is, the best bet would be to mention any segregation activities in the section talking about his Nation of Islam involve...   \n",
       "1126  (I don't know about the libel.)  The claim \"Sunni Muslim philosophy contributes to his belief in segregation\" does not obviously follow from the cited article.  The article text is not very clear, and the phrases \"segregation\" and \"Sunni Muslim\" does not appear.  One might guess from the anecdotes told in the article that MA believes in segregation, but it is not directly stated anywhere.  And there might be a connection between that belief and his Black Muslim connection, again it is not especially clear from the text alone.  The jump from \"Black Muslim\" to \"Sunni Muslim philosophy\" as a reason is not supported at all.\\nEven if MA believes in segregation, it is a question if that fact is of encyclopedic value.  If the SI quote is the strongest statements for segregation he has made, it hasn't.  It is only encyclopedic, if it is part of his public persona.  If it is, the best bet would be to mention any segregation activities in the section talking about his Nation of Islam involve...   \n",
       "1129  (I don't know about the libel.)  The claim \"Sunni Muslim philosophy contributes to his belief in segregation\" does not obviously follow from the cited article.  The article text is not very clear, and the phrases \"segregation\" and \"Sunni Muslim\" does not appear.  One might guess from the anecdotes told in the article that MA believes in segregation, but it is not directly stated anywhere.  And there might be a connection between that belief and his Black Muslim connection, again it is not especially clear from the text alone.  The jump from \"Black Muslim\" to \"Sunni Muslim philosophy\" as a reason is not supported at all.\\nEven if MA believes in segregation, it is a question if that fact is of encyclopedic value.  If the SI quote is the strongest statements for segregation he has made, it hasn't.  It is only encyclopedic, if it is part of his public persona.  If it is, the best bet would be to mention any segregation activities in the section talking about his Nation of Islam involve...   \n",
       "\n",
       "      toxicity  severe_toxicity              conv_id     pagetitle  \\\n",
       "1110  0.071113          0.01522  102988832.9898.9898  Muhammad Ali   \n",
       "1123  0.071113          0.01522  102988832.9898.9898  Muhammad Ali   \n",
       "1126  0.071113          0.01522  102988832.9898.9898  Muhammad Ali   \n",
       "1129  0.071113          0.01522  102988832.9898.9898  Muhammad Ali   \n",
       "\n",
       "      word_count  escalated  \n",
       "1110         192          0  \n",
       "1123         192          0  \n",
       "1126         192          0  \n",
       "1129         192          0  "
      ]
     },
     "execution_count": 23,
     "metadata": {},
     "output_type": "execute_result"
    }
   ],
   "source": [
    "united_df[(united_df.pagetitle == 'Muhammad Ali') & (united_df.word_count == 192)]"
   ]
  },
  {
   "cell_type": "code",
   "execution_count": 16,
   "metadata": {},
   "outputs": [],
   "source": [
    "matrix = [[1, 2, 3], [4, 5, 6], [7, 8, 9]]"
   ]
  },
  {
   "cell_type": "code",
   "execution_count": 17,
   "metadata": {},
   "outputs": [
    {
     "data": {
      "text/plain": [
       "15"
      ]
     },
     "execution_count": 17,
     "metadata": {},
     "output_type": "execute_result"
    }
   ],
   "source": [
    "def sled(mat):\n",
    "    counter = 0\n",
    "    sled = 0\n",
    "    for row in mat:\n",
    "        sled = sled + row[counter]\n",
    "        counter+=1\n",
    "    return sled\n",
    "sled(matrix)"
   ]
  },
  {
   "cell_type": "code",
   "execution_count": null,
   "metadata": {},
   "outputs": [],
   "source": []
  }
 ],
 "metadata": {
  "kernelspec": {
   "display_name": "Python 3",
   "language": "python",
   "name": "python3"
  },
  "language_info": {
   "codemirror_mode": {
    "name": "ipython",
    "version": 3
   },
   "file_extension": ".py",
   "mimetype": "text/x-python",
   "name": "python",
   "nbconvert_exporter": "python",
   "pygments_lexer": "ipython3",
   "version": "3.7.4"
  }
 },
 "nbformat": 4,
 "nbformat_minor": 4
}
